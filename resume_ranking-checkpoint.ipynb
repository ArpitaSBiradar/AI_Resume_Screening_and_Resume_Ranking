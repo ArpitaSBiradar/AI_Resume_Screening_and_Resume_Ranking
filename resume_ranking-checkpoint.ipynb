{
 "cells": [
  {
   "cell_type": "code",
   "execution_count": 1,
   "id": "9f0dfeef-9144-4fa5-aa3f-65fa3f0e3d7b",
   "metadata": {},
   "outputs": [
    {
     "ename": "ModuleNotFoundError",
     "evalue": "No module named 'streamlit'",
     "output_type": "error",
     "traceback": [
      "\u001b[1;31m---------------------------------------------------------------------------\u001b[0m",
      "\u001b[1;31mModuleNotFoundError\u001b[0m                       Traceback (most recent call last)",
      "Cell \u001b[1;32mIn[1], line 1\u001b[0m\n\u001b[1;32m----> 1\u001b[0m \u001b[38;5;28;01mimport\u001b[39;00m \u001b[38;5;21;01mstreamlit\u001b[39;00m \u001b[38;5;28;01mas\u001b[39;00m \u001b[38;5;21;01mst\u001b[39;00m\n\u001b[0;32m      2\u001b[0m \u001b[38;5;28;01mfrom\u001b[39;00m \u001b[38;5;21;01mPyPDF2\u001b[39;00m \u001b[38;5;28;01mimport\u001b[39;00m PdfReader\n\u001b[0;32m      3\u001b[0m \u001b[38;5;28;01mimport\u001b[39;00m \u001b[38;5;21;01mpandas\u001b[39;00m \u001b[38;5;28;01mas\u001b[39;00m \u001b[38;5;21;01mpd\u001b[39;00m\n",
      "\u001b[1;31mModuleNotFoundError\u001b[0m: No module named 'streamlit'"
     ]
    }
   ],
   "source": [
    "import streamlit as st\n",
    "from PyPDF2 import PdfReader\n",
    "import pandas as pd\n",
    "from sklearn.feature_extraction.text import TfidfVectorizer\n",
    "from sklearn.metrics.pairwise import cosine_similarity"
   ]
  },
  {
   "cell_type": "code",
   "execution_count": null,
   "id": "adeaac88-5c56-4971-bb3f-59c4bbb60c4a",
   "metadata": {},
   "outputs": [],
   "source": [
    "# Function to extract text from PDF\n",
    "def extract_text_from_pdf(file):\n",
    "    pdf = PdfReader(file)\n",
    "    text = \"\"\n",
    "    for page in pdf.pages:\n",
    "        text += page.extract_text()\n",
    "    return text"
   ]
  },
  {
   "cell_type": "code",
   "execution_count": null,
   "id": "5346adba-c7be-43e0-8962-c8ea95db7c18",
   "metadata": {},
   "outputs": [],
   "source": [
    "# Function to rank resumes based on job description\n",
    "def rank_resumes(job_description, resumes):\n",
    "    # Combine job description with resumes\n",
    "    documents [job_description] + resumes\n",
    "    vectorizer = TfidfVectorizer().fit_transform(documents)\n",
    "    vectors vectorizer.toarray()\n",
    "\n",
    "    # Calculate cosine similarity\n",
    "    job_description_vector = vectors[0]\n",
    "    resume_vectors = vectors [1:]\n",
    "    cosine_similarities = cosine_similarity ([job_description_vector], resume_vectors).flatten()\n",
    "    \n",
    "    return cosine_similarities"
   ]
  },
  {
   "cell_type": "code",
   "execution_count": null,
   "id": "fe4f6753-d769-43c4-891a-4874d57ebdf6",
   "metadata": {},
   "outputs": [],
   "source": [
    "# Streamlit app\n",
    "st.title(\"AI Resume Screening & Candidate Ranking System\")\n",
    "# Job description input\n",
    "st.header(\"Job Description\")\n",
    "job_description= st.text_area (\"Enter the job description\")"
   ]
  },
  {
   "cell_type": "code",
   "execution_count": null,
   "id": "8b4202d6-4e09-4119-b1fd-9adb991b4ab5",
   "metadata": {},
   "outputs": [],
   "source": [
    "# File uploader\n",
    "st.header(\"Upload Resumes\")\n",
    "uploaded_files = st.file_uploader(\"Upload PDF files\", type=[\"pdf\"], accept_multiple_files=True)"
   ]
  },
  {
   "cell_type": "code",
   "execution_count": null,
   "id": "8e218fd3-19a8-4514-98bb-e5d6672df465",
   "metadata": {},
   "outputs": [],
   "source": [
    "if uploaded_files and job_description:\n",
    "    st.header(\"Ranking Resumes\")\n",
    "    \n",
    "    resumes = []\n",
    "    for file in uploaded_files:\n",
    "        text = extract_text_from_pdf(file)\n",
    "        resumes.append(text)\n",
    "\n",
    "    # Rank resumes\n",
    "    scores = rank_resumes(job_description, resumes)\n",
    "\n",
    "    # Display scores\n",
    "    results = pd.DataFrame({\"Resume\": [file.name for file in uploaded_files], \"Score\": score })\n",
    "    results = results.sort_values(by=\"Score\", ascending=False)\n",
    "    \n",
    "    st.write(results)"
   ]
  },
  {
   "cell_type": "code",
   "execution_count": null,
   "id": "36f4c751-0615-4257-9dd4-36253f1e31e9",
   "metadata": {},
   "outputs": [],
   "source": [
    "import pyttsx3\n",
    "\n",
    "# -------------------------- AI Cover Letter Generator --------------------------\n",
    "def generate_cover_letter(resume_text, job_description):\n",
    "    prompt = f\"\"\"\n",
    "    Generate a professional cover letter based on the following resume and job description.\n",
    "\n",
    "    Resume:\n",
    "    {resume_text}\n",
    "\n",
    "    Job Description:\n",
    "    {job_description}\n",
    "\n",
    "    Cover Letter:\n",
    "    \"\"\"\n",
    "    \n",
    "    response = openai.ChatCompletion.create(\n",
    "        model=\"gpt-3.5-turbo\",\n",
    "        messages=[{\"role\": \"system\", \"content\": \"You are a professional cover letter generator.\"},\n",
    "                  {\"role\": \"user\", \"content\": prompt}]\n",
    "    )\n",
    "\n",
    "    return response[\"choices\"][0][\"message\"][\"content\"]\n",
    "\n",
    "# Generate cover letter for best matching resume\n",
    "if top_resume is not None:\n",
    "    st.markdown(\"## ✍️ AI-Generated Cover Letter\")\n",
    "    cover_letter = generate_cover_letter(top_resume[\"Resume\"], job_description)\n",
    "    st.text_area(\"📄 Cover Letter:\", cover_letter, height=300)\n",
    "\n",
    "    # Download Cover Letter as TXT\n",
    "    st.download_button(label=\"📥 Download Cover Letter\",\n",
    "                       data=cover_letter,\n",
    "                       file_name=\"Cover_Letter.txt\",\n",
    "                       mime=\"text/plain\")"
   ]
  }
 ],
 "metadata": {
  "kernelspec": {
   "display_name": "base",
   "language": "python",
   "name": "python3"
  },
  "language_info": {
   "codemirror_mode": {
    "name": "ipython",
    "version": 3
   },
   "file_extension": ".py",
   "mimetype": "text/x-python",
   "name": "python",
   "nbconvert_exporter": "python",
   "pygments_lexer": "ipython3",
   "version": "3.10.9"
  }
 },
 "nbformat": 4,
 "nbformat_minor": 5
}
